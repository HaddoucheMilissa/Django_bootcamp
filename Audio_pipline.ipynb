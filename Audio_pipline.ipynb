{
  "cells": [
    {
      "cell_type": "markdown",
      "metadata": {
        "id": "view-in-github",
        "colab_type": "text"
      },
      "source": [
        "<a href=\"https://colab.research.google.com/github/HaddoucheMilissa/Django_bootcamp/blob/main/Audio_pipline.ipynb\" target=\"_parent\"><img src=\"https://colab.research.google.com/assets/colab-badge.svg\" alt=\"Open In Colab\"/></a>"
      ]
    },
    {
      "cell_type": "markdown",
      "metadata": {
        "id": "EUTl1bq57k5L"
      },
      "source": [
        "# Audio Pipeline"
      ]
    },
    {
      "cell_type": "markdown",
      "metadata": {
        "id": "XU0Yshs37env"
      },
      "source": [
        "# Step 1: Preprocess Audio (Denoising & Conversion)"
      ]
    },
    {
      "cell_type": "code",
      "execution_count": 10,
      "metadata": {
        "colab": {
          "base_uri": "https://localhost:8080/"
        },
        "collapsed": true,
        "id": "Tvnb7CNv7ckM",
        "outputId": "61f0ad46-d97b-4190-cff8-37e0738b6e12"
      },
      "outputs": [
        {
          "output_type": "stream",
          "name": "stdout",
          "text": [
            "\u001b[33m\r0% [Working]\u001b[0m\r            \rHit:1 https://cloud.r-project.org/bin/linux/ubuntu jammy-cran40/ InRelease\n",
            "Hit:2 https://developer.download.nvidia.com/compute/cuda/repos/ubuntu2204/x86_64  InRelease\n",
            "Hit:3 http://archive.ubuntu.com/ubuntu jammy InRelease\n",
            "Hit:4 http://security.ubuntu.com/ubuntu jammy-security InRelease\n",
            "Hit:5 http://archive.ubuntu.com/ubuntu jammy-updates InRelease\n",
            "Hit:6 http://archive.ubuntu.com/ubuntu jammy-backports InRelease\n",
            "Hit:7 https://r2u.stat.illinois.edu/ubuntu jammy InRelease\n",
            "Hit:8 https://ppa.launchpadcontent.net/deadsnakes/ppa/ubuntu jammy InRelease\n",
            "Hit:9 https://ppa.launchpadcontent.net/graphics-drivers/ppa/ubuntu jammy InRelease\n",
            "Hit:10 https://ppa.launchpadcontent.net/ubuntugis/ppa/ubuntu jammy InRelease\n",
            "Reading package lists... Done\n",
            "Building dependency tree... Done\n",
            "Reading state information... Done\n",
            "41 packages can be upgraded. Run 'apt list --upgradable' to see them.\n",
            "\u001b[1;33mW: \u001b[0mSkipping acquire of configured file 'main/source/Sources' as repository 'https://r2u.stat.illinois.edu/ubuntu jammy InRelease' does not seem to provide it (sources.list entry misspelt?)\u001b[0m\n",
            "Reading package lists... Done\n",
            "Building dependency tree... Done\n",
            "Reading state information... Done\n",
            "ffmpeg is already the newest version (7:4.4.2-0ubuntu0.22.04.1).\n",
            "0 upgraded, 0 newly installed, 0 to remove and 41 not upgraded.\n",
            "Requirement already satisfied: numpy==1.26.4 in /usr/local/lib/python3.11/dist-packages (1.26.4)\n",
            "Requirement already satisfied: pandas==2.2.2 in /usr/local/lib/python3.11/dist-packages (2.2.2)\n",
            "Requirement already satisfied: python-dateutil>=2.8.2 in /usr/local/lib/python3.11/dist-packages (from pandas==2.2.2) (2.8.2)\n",
            "Requirement already satisfied: pytz>=2020.1 in /usr/local/lib/python3.11/dist-packages (from pandas==2.2.2) (2025.1)\n",
            "Requirement already satisfied: tzdata>=2022.7 in /usr/local/lib/python3.11/dist-packages (from pandas==2.2.2) (2025.1)\n",
            "Requirement already satisfied: six>=1.5 in /usr/local/lib/python3.11/dist-packages (from python-dateutil>=2.8.2->pandas==2.2.2) (1.17.0)\n",
            "Looking in indexes: https://download.pytorch.org/whl/cu121\n",
            "Requirement already satisfied: torch in /usr/local/lib/python3.11/dist-packages (2.5.1+cu121)\n",
            "Requirement already satisfied: torchaudio in /usr/local/lib/python3.11/dist-packages (2.5.1+cu121)\n",
            "Requirement already satisfied: filelock in /usr/local/lib/python3.11/dist-packages (from torch) (3.18.0)\n",
            "Requirement already satisfied: typing-extensions>=4.8.0 in /usr/local/lib/python3.11/dist-packages (from torch) (4.12.2)\n",
            "Requirement already satisfied: networkx in /usr/local/lib/python3.11/dist-packages (from torch) (3.4.2)\n",
            "Requirement already satisfied: jinja2 in /usr/local/lib/python3.11/dist-packages (from torch) (3.1.6)\n",
            "Requirement already satisfied: fsspec in /usr/local/lib/python3.11/dist-packages (from torch) (2025.3.0)\n",
            "Requirement already satisfied: nvidia-cuda-nvrtc-cu12==12.1.105 in /usr/local/lib/python3.11/dist-packages (from torch) (12.1.105)\n",
            "Requirement already satisfied: nvidia-cuda-runtime-cu12==12.1.105 in /usr/local/lib/python3.11/dist-packages (from torch) (12.1.105)\n",
            "Requirement already satisfied: nvidia-cuda-cupti-cu12==12.1.105 in /usr/local/lib/python3.11/dist-packages (from torch) (12.1.105)\n",
            "Requirement already satisfied: nvidia-cudnn-cu12==9.1.0.70 in /usr/local/lib/python3.11/dist-packages (from torch) (9.1.0.70)\n",
            "Requirement already satisfied: nvidia-cublas-cu12==12.1.3.1 in /usr/local/lib/python3.11/dist-packages (from torch) (12.1.3.1)\n",
            "Requirement already satisfied: nvidia-cufft-cu12==11.0.2.54 in /usr/local/lib/python3.11/dist-packages (from torch) (11.0.2.54)\n",
            "Requirement already satisfied: nvidia-curand-cu12==10.3.2.106 in /usr/local/lib/python3.11/dist-packages (from torch) (10.3.2.106)\n",
            "Requirement already satisfied: nvidia-cusolver-cu12==11.4.5.107 in /usr/local/lib/python3.11/dist-packages (from torch) (11.4.5.107)\n",
            "Requirement already satisfied: nvidia-cusparse-cu12==12.1.0.106 in /usr/local/lib/python3.11/dist-packages (from torch) (12.1.0.106)\n",
            "Requirement already satisfied: nvidia-nccl-cu12==2.21.5 in /usr/local/lib/python3.11/dist-packages (from torch) (2.21.5)\n",
            "Requirement already satisfied: nvidia-nvtx-cu12==12.1.105 in /usr/local/lib/python3.11/dist-packages (from torch) (12.1.105)\n",
            "Requirement already satisfied: triton==3.1.0 in /usr/local/lib/python3.11/dist-packages (from torch) (3.1.0)\n",
            "Requirement already satisfied: sympy==1.13.1 in /usr/local/lib/python3.11/dist-packages (from torch) (1.13.1)\n",
            "Requirement already satisfied: nvidia-nvjitlink-cu12 in /usr/local/lib/python3.11/dist-packages (from nvidia-cusolver-cu12==11.4.5.107->torch) (12.5.82)\n",
            "Requirement already satisfied: mpmath<1.4,>=1.1.0 in /usr/local/lib/python3.11/dist-packages (from sympy==1.13.1->torch) (1.3.0)\n",
            "Requirement already satisfied: MarkupSafe>=2.0 in /usr/local/lib/python3.11/dist-packages (from jinja2->torch) (3.0.2)\n",
            "\u001b[33mWARNING: Skipping whisper as it is not installed.\u001b[0m\u001b[33m\n",
            "\u001b[0mRequirement already satisfied: faster-whisper in /usr/local/lib/python3.11/dist-packages (1.1.1)\n",
            "Requirement already satisfied: ctranslate2<5,>=4.0 in /usr/local/lib/python3.11/dist-packages (from faster-whisper) (4.5.0)\n",
            "Requirement already satisfied: huggingface-hub>=0.13 in /usr/local/lib/python3.11/dist-packages (from faster-whisper) (0.29.3)\n",
            "Requirement already satisfied: tokenizers<1,>=0.13 in /usr/local/lib/python3.11/dist-packages (from faster-whisper) (0.21.1)\n",
            "Requirement already satisfied: onnxruntime<2,>=1.14 in /usr/local/lib/python3.11/dist-packages (from faster-whisper) (1.21.0)\n",
            "Requirement already satisfied: av>=11 in /usr/local/lib/python3.11/dist-packages (from faster-whisper) (14.2.0)\n",
            "Requirement already satisfied: tqdm in /usr/local/lib/python3.11/dist-packages (from faster-whisper) (4.67.1)\n",
            "Requirement already satisfied: setuptools in /usr/local/lib/python3.11/dist-packages (from ctranslate2<5,>=4.0->faster-whisper) (75.1.0)\n",
            "Requirement already satisfied: numpy in /usr/local/lib/python3.11/dist-packages (from ctranslate2<5,>=4.0->faster-whisper) (1.26.4)\n",
            "Requirement already satisfied: pyyaml<7,>=5.3 in /usr/local/lib/python3.11/dist-packages (from ctranslate2<5,>=4.0->faster-whisper) (6.0.2)\n",
            "Requirement already satisfied: filelock in /usr/local/lib/python3.11/dist-packages (from huggingface-hub>=0.13->faster-whisper) (3.18.0)\n",
            "Requirement already satisfied: fsspec>=2023.5.0 in /usr/local/lib/python3.11/dist-packages (from huggingface-hub>=0.13->faster-whisper) (2025.3.0)\n",
            "Requirement already satisfied: packaging>=20.9 in /usr/local/lib/python3.11/dist-packages (from huggingface-hub>=0.13->faster-whisper) (23.2)\n",
            "Requirement already satisfied: requests in /usr/local/lib/python3.11/dist-packages (from huggingface-hub>=0.13->faster-whisper) (2.32.3)\n",
            "Requirement already satisfied: typing-extensions>=3.7.4.3 in /usr/local/lib/python3.11/dist-packages (from huggingface-hub>=0.13->faster-whisper) (4.12.2)\n",
            "Requirement already satisfied: coloredlogs in /usr/local/lib/python3.11/dist-packages (from onnxruntime<2,>=1.14->faster-whisper) (15.0.1)\n",
            "Requirement already satisfied: flatbuffers in /usr/local/lib/python3.11/dist-packages (from onnxruntime<2,>=1.14->faster-whisper) (25.2.10)\n",
            "Requirement already satisfied: protobuf in /usr/local/lib/python3.11/dist-packages (from onnxruntime<2,>=1.14->faster-whisper) (5.29.4)\n",
            "Requirement already satisfied: sympy in /usr/local/lib/python3.11/dist-packages (from onnxruntime<2,>=1.14->faster-whisper) (1.13.1)\n",
            "Requirement already satisfied: humanfriendly>=9.1 in /usr/local/lib/python3.11/dist-packages (from coloredlogs->onnxruntime<2,>=1.14->faster-whisper) (10.0)\n",
            "Requirement already satisfied: charset-normalizer<4,>=2 in /usr/local/lib/python3.11/dist-packages (from requests->huggingface-hub>=0.13->faster-whisper) (3.4.1)\n",
            "Requirement already satisfied: idna<4,>=2.5 in /usr/local/lib/python3.11/dist-packages (from requests->huggingface-hub>=0.13->faster-whisper) (3.10)\n",
            "Requirement already satisfied: urllib3<3,>=1.21.1 in /usr/local/lib/python3.11/dist-packages (from requests->huggingface-hub>=0.13->faster-whisper) (2.3.0)\n",
            "Requirement already satisfied: certifi>=2017.4.17 in /usr/local/lib/python3.11/dist-packages (from requests->huggingface-hub>=0.13->faster-whisper) (2025.1.31)\n",
            "Requirement already satisfied: mpmath<1.4,>=1.1.0 in /usr/local/lib/python3.11/dist-packages (from sympy->onnxruntime<2,>=1.14->faster-whisper) (1.3.0)\n",
            "Requirement already satisfied: yt-dlp in /usr/local/lib/python3.11/dist-packages (2025.3.27)\n",
            "Requirement already satisfied: pydub in /usr/local/lib/python3.11/dist-packages (0.25.1)\n",
            "Requirement already satisfied: librosa in /usr/local/lib/python3.11/dist-packages (0.11.0)\n",
            "Requirement already satisfied: soundfile in /usr/local/lib/python3.11/dist-packages (0.13.1)\n",
            "Requirement already satisfied: noisereduce in /usr/local/lib/python3.11/dist-packages (3.0.3)\n",
            "Requirement already satisfied: pytube in /usr/local/lib/python3.11/dist-packages (15.0.0)\n",
            "Requirement already satisfied: deepfilternet in /usr/local/lib/python3.11/dist-packages (0.5.6)\n",
            "Requirement already satisfied: audioread>=2.1.9 in /usr/local/lib/python3.11/dist-packages (from librosa) (3.0.1)\n",
            "Requirement already satisfied: numba>=0.51.0 in /usr/local/lib/python3.11/dist-packages (from librosa) (0.60.0)\n",
            "Requirement already satisfied: numpy>=1.22.3 in /usr/local/lib/python3.11/dist-packages (from librosa) (1.26.4)\n",
            "Requirement already satisfied: scipy>=1.6.0 in /usr/local/lib/python3.11/dist-packages (from librosa) (1.14.1)\n",
            "Requirement already satisfied: scikit-learn>=1.1.0 in /usr/local/lib/python3.11/dist-packages (from librosa) (1.6.1)\n",
            "Requirement already satisfied: joblib>=1.0 in /usr/local/lib/python3.11/dist-packages (from librosa) (1.4.2)\n",
            "Requirement already satisfied: decorator>=4.3.0 in /usr/local/lib/python3.11/dist-packages (from librosa) (4.4.2)\n",
            "Requirement already satisfied: pooch>=1.1 in /usr/local/lib/python3.11/dist-packages (from librosa) (1.8.2)\n",
            "Requirement already satisfied: soxr>=0.3.2 in /usr/local/lib/python3.11/dist-packages (from librosa) (0.5.0.post1)\n",
            "Requirement already satisfied: typing_extensions>=4.1.1 in /usr/local/lib/python3.11/dist-packages (from librosa) (4.12.2)\n",
            "Requirement already satisfied: lazy_loader>=0.1 in /usr/local/lib/python3.11/dist-packages (from librosa) (0.4)\n",
            "Requirement already satisfied: msgpack>=1.0 in /usr/local/lib/python3.11/dist-packages (from librosa) (1.1.0)\n",
            "Requirement already satisfied: cffi>=1.0 in /usr/local/lib/python3.11/dist-packages (from soundfile) (1.17.1)\n",
            "Requirement already satisfied: matplotlib in /usr/local/lib/python3.11/dist-packages (from noisereduce) (3.10.0)\n",
            "Requirement already satisfied: tqdm in /usr/local/lib/python3.11/dist-packages (from noisereduce) (4.67.1)\n",
            "Requirement already satisfied: appdirs<2.0,>=1.4 in /usr/local/lib/python3.11/dist-packages (from deepfilternet) (1.4.4)\n",
            "Requirement already satisfied: deepfilterlib==0.5.6 in /usr/local/lib/python3.11/dist-packages (from deepfilternet) (0.5.6)\n",
            "Requirement already satisfied: loguru>=0.5 in /usr/local/lib/python3.11/dist-packages (from deepfilternet) (0.7.3)\n",
            "Requirement already satisfied: packaging<24.0,>=23.0 in /usr/local/lib/python3.11/dist-packages (from deepfilternet) (23.2)\n",
            "Requirement already satisfied: requests<3.0,>=2.27 in /usr/local/lib/python3.11/dist-packages (from deepfilternet) (2.32.3)\n",
            "Requirement already satisfied: sympy>=1.6 in /usr/local/lib/python3.11/dist-packages (from deepfilternet) (1.13.1)\n",
            "Requirement already satisfied: pycparser in /usr/local/lib/python3.11/dist-packages (from cffi>=1.0->soundfile) (2.22)\n",
            "Requirement already satisfied: llvmlite<0.44,>=0.43.0dev0 in /usr/local/lib/python3.11/dist-packages (from numba>=0.51.0->librosa) (0.43.0)\n",
            "Requirement already satisfied: platformdirs>=2.5.0 in /usr/local/lib/python3.11/dist-packages (from pooch>=1.1->librosa) (4.3.7)\n",
            "Requirement already satisfied: charset-normalizer<4,>=2 in /usr/local/lib/python3.11/dist-packages (from requests<3.0,>=2.27->deepfilternet) (3.4.1)\n",
            "Requirement already satisfied: idna<4,>=2.5 in /usr/local/lib/python3.11/dist-packages (from requests<3.0,>=2.27->deepfilternet) (3.10)\n",
            "Requirement already satisfied: urllib3<3,>=1.21.1 in /usr/local/lib/python3.11/dist-packages (from requests<3.0,>=2.27->deepfilternet) (2.3.0)\n",
            "Requirement already satisfied: certifi>=2017.4.17 in /usr/local/lib/python3.11/dist-packages (from requests<3.0,>=2.27->deepfilternet) (2025.1.31)\n",
            "Requirement already satisfied: threadpoolctl>=3.1.0 in /usr/local/lib/python3.11/dist-packages (from scikit-learn>=1.1.0->librosa) (3.6.0)\n",
            "Requirement already satisfied: mpmath<1.4,>=1.1.0 in /usr/local/lib/python3.11/dist-packages (from sympy>=1.6->deepfilternet) (1.3.0)\n",
            "Requirement already satisfied: contourpy>=1.0.1 in /usr/local/lib/python3.11/dist-packages (from matplotlib->noisereduce) (1.3.1)\n",
            "Requirement already satisfied: cycler>=0.10 in /usr/local/lib/python3.11/dist-packages (from matplotlib->noisereduce) (0.12.1)\n",
            "Requirement already satisfied: fonttools>=4.22.0 in /usr/local/lib/python3.11/dist-packages (from matplotlib->noisereduce) (4.56.0)\n",
            "Requirement already satisfied: kiwisolver>=1.3.1 in /usr/local/lib/python3.11/dist-packages (from matplotlib->noisereduce) (1.4.8)\n",
            "Requirement already satisfied: pillow>=8 in /usr/local/lib/python3.11/dist-packages (from matplotlib->noisereduce) (11.1.0)\n",
            "Requirement already satisfied: pyparsing>=2.3.1 in /usr/local/lib/python3.11/dist-packages (from matplotlib->noisereduce) (3.2.1)\n",
            "Requirement already satisfied: python-dateutil>=2.7 in /usr/local/lib/python3.11/dist-packages (from matplotlib->noisereduce) (2.8.2)\n",
            "Requirement already satisfied: six>=1.5 in /usr/local/lib/python3.11/dist-packages (from python-dateutil>=2.7->matplotlib->noisereduce) (1.17.0)\n"
          ]
        }
      ],
      "source": [
        "# 🚀 System Dependencies\n",
        "!apt update && apt install -y ffmpeg  # Install FFmpeg for audio processing\n",
        "\n",
        "# 🛠️ Install Compatible Python Dependencies\n",
        "!pip install --upgrade --no-cache-dir numpy==1.26.4 pandas==2.2.2\n",
        "!pip install --no-cache-dir torch torchaudio --index-url https://download.pytorch.org/whl/cu121\n",
        "!pip uninstall -y whisper\n",
        "!pip install --no-cache-dir faster-whisper  # Install faster-whisper\n",
        "!pip install --no-cache-dir yt-dlp pydub librosa soundfile noisereduce pytube deepfilternet"
      ]
    },
    {
      "cell_type": "markdown",
      "metadata": {
        "id": "qBJtVYoqwDbX"
      },
      "source": [
        "# **DOWNLOAD THE VIDEO AND EXTRACT AUDIO** *italicized text*"
      ]
    },
    {
      "cell_type": "code",
      "execution_count": 11,
      "metadata": {
        "id": "RuzZo4OL7F8V"
      },
      "outputs": [],
      "source": [
        "import os\n",
        "import torch\n",
        "import yt_dlp\n",
        "import numpy as np\n",
        "from df import enhance, init_df\n",
        "from pytube import YouTube\n",
        "import torchaudio\n",
        "from pydub import AudioSegment, silence\n",
        "import soundfile as sf  # Use sf.write() instead of librosa.output.write_wav (deprecated)\n",
        "from faster_whisper import WhisperModel  # Use faster-whisper instead of openai-whisper\n",
        "\n",
        "# ✅ Load Faster-Whisper model\n",
        "model = WhisperModel(\"medium\", device=\"cuda\", compute_type=\"float32\")  # Use fp32 precision\n"
      ]
    },
    {
      "cell_type": "code",
      "execution_count": 12,
      "metadata": {
        "id": "Xuh7edrkWuhH"
      },
      "outputs": [],
      "source": [
        "# Step 0: Download Video and Extract Audio\n",
        "def download_video(video_url, output_audio):\n",
        "    \"\"\"Downloads a video from a URL and extracts audio.\"\"\"\n",
        "    ydl_opts = {\n",
        "        'format': 'bestaudio/best',\n",
        "        'postprocessors': [{\n",
        "            'key': 'FFmpegExtractAudio',\n",
        "            'preferredcodec': 'wav',\n",
        "            'preferredquality': '192',\n",
        "        }],\n",
        "        'outtmpl': output_audio.replace('.wav', ''),\n",
        "    }\n",
        "\n",
        "    with yt_dlp.YoutubeDL(ydl_opts) as ydl:\n",
        "        ydl.download([video_url])\n",
        "\n",
        "    print(f\"Downloaded and extracted audio: {output_audio}\")"
      ]
    },
    {
      "cell_type": "code",
      "execution_count": 13,
      "metadata": {
        "id": "IK2CAulBXYEm"
      },
      "outputs": [],
      "source": [
        "def split_audio(file_path, chunk_length=30000):\n",
        "    \"\"\"Splits audio into chunks of 30 seconds each.\"\"\"\n",
        "    file_dir = os.path.dirname(file_path) or os.getcwd()  # Fix: Use current directory if empty\n",
        "\n",
        "    # Remove only related old chunks\n",
        "    for file in os.listdir(file_dir):\n",
        "        if file.startswith(\"chunk_\") and file.endswith(\".wav\"):\n",
        "            os.remove(os.path.join(file_dir, file))\n",
        "\n",
        "    # Load and split the audio\n",
        "    audio = AudioSegment.from_file(file_path, format=\"wav\")\n",
        "    chunks = [audio[i:i+chunk_length] for i in range(0, len(audio), chunk_length)]\n",
        "\n",
        "    chunk_files = []\n",
        "    for idx, chunk in enumerate(chunks):\n",
        "        chunk_file = os.path.join(file_dir, f\"chunk_{idx}.wav\")\n",
        "        chunk.export(chunk_file, format=\"wav\")\n",
        "        chunk_files.append(chunk_file)\n",
        "\n",
        "    print(f\"✅ Split into {len(chunk_files)} chunks.\")\n",
        "    return chunk_files\n"
      ]
    },
    {
      "cell_type": "code",
      "execution_count": 14,
      "metadata": {
        "id": "m9Ir5mbkEylb"
      },
      "outputs": [],
      "source": [
        "# Step 2: Denoise Each Chunk\n",
        "\n",
        "def load_audio(file_path, target_sr=48000):\n",
        "    \"\"\"Loads an audio file and resamples it to the target sample rate.\"\"\"\n",
        "    waveform, orig_sr = torchaudio.load(file_path)\n",
        "    if orig_sr != target_sr:\n",
        "        resampler = torchaudio.transforms.Resample(orig_sr, target_sr)\n",
        "        waveform = resampler(waveform)\n",
        "    return waveform.numpy().squeeze()\n",
        "\n",
        "\n",
        "import torch\n",
        "import soundfile as sf\n",
        "from df import enhance, init_df\n",
        "\n",
        "def denoise_audio_parallel(chunk_files):\n",
        "    \"\"\"Denoises audio chunks in parallel using batch processing.\"\"\"\n",
        "\n",
        "    model, df_state, _ = init_df(model_base_dir=\"DeepFilterNet3\")\n",
        "    if model is None or df_state is None:\n",
        "        print(\"❌ Failed to initialize DeepFilterNet.\")\n",
        "        return []\n",
        "\n",
        "    enhanced_files = []\n",
        "\n",
        "    # Load all audio chunks in parallel\n",
        "    audio_data = load_audio_parallel(chunk_files)  # Load all chunks at once\n",
        "\n",
        "    # Convert to PyTorch tensors (batch processing)\n",
        "    audio_tensors = [torch.from_numpy(audio) for audio in audio_data]\n",
        "    batch_tensor = torch.stack(audio_tensors)  # Stack all chunks into a batch\n",
        "\n",
        "    # Apply denoising in batch\n",
        "    enhanced_audio_batch = enhance(model, df_state, batch_tensor)\n",
        "\n",
        "    # Save the enhanced chunks\n",
        "    for i, enhanced_audio in enumerate(enhanced_audio_batch):\n",
        "        enhanced_audio_np = enhanced_audio.cpu().numpy()\n",
        "\n",
        "        # Ensure correct shape (stereo compatibility)\n",
        "        if enhanced_audio_np.ndim == 2 and enhanced_audio_np.shape[0] > enhanced_audio_np.shape[1]:\n",
        "            enhanced_audio_np = enhanced_audio_np.T\n",
        "\n",
        "        output_file = f\"enhanced_{os.path.basename(chunk_files[i])}\"\n",
        "        sf.write(output_file, enhanced_audio_np, 48000, format=\"WAV\", subtype=\"PCM_16\")\n",
        "        enhanced_files.append(output_file)\n",
        "\n",
        "    return enhanced_files\n"
      ]
    },
    {
      "cell_type": "code",
      "execution_count": 15,
      "metadata": {
        "id": "HrLNZrNGaKoh"
      },
      "outputs": [],
      "source": [
        "def concatenate_audios(output_path=\"output.wav\"):\n",
        "    \"\"\"\n",
        "    Concatenates all audio files that start with 'enhanced_' into a single WAV file.\n",
        "\n",
        "    Args:\n",
        "        output_path (str): Path to save the final concatenated audio.\n",
        "\n",
        "    Returns:\n",
        "        None\n",
        "    \"\"\"\n",
        "    # Get all files starting with \"enhanced_\" and ending with \".wav\"\n",
        "    audio_files = sorted([file for file in os.listdir() if file.startswith(\"enhanced_\") and file.endswith(\".wav\")])\n",
        "\n",
        "    if not audio_files:\n",
        "        print(\"❌ No enhanced audio files found to concatenate.\")\n",
        "        return\n",
        "\n",
        "    # Initialize an empty audio segment\n",
        "    final_audio = AudioSegment.empty()\n",
        "\n",
        "    for file in audio_files:\n",
        "        audio = AudioSegment.from_wav(file)  # Load each enhanced audio file\n",
        "        final_audio += audio  # Append it to the final audio\n",
        "\n",
        "    # Export as WAV (16-bit PCM, 16kHz for Whisper compatibility)\n",
        "    final_audio.export(output_path, format=\"wav\", codec=\"pcm_s16le\", parameters=[\"-ar\", \"16000\"])\n",
        "    print(f\"✅ Concatenated audio saved as: {output_path}\")\n"
      ]
    },
    {
      "cell_type": "code",
      "execution_count": 16,
      "metadata": {
        "id": "RMMaxu3h4GpA"
      },
      "outputs": [],
      "source": [
        "from faster_whisper import WhisperModel\n",
        "\n",
        "# Load the model with automatic chunking (30 seconds)\n",
        "model = WhisperModel(\"medium\", device=\"cuda\", compute_type=\"float32\")\n",
        "\n",
        "# Transcribe the entire audio file\n",
        "def transcribe_audio(input_audio):\n",
        "    \"\"\"\n",
        "    Transcribes an entire audio file using Faster-Whisper with automatic chunking.\n",
        "\n",
        "    Args:\n",
        "        input_audio (str): Path to the input audio file.\n",
        "\n",
        "    Returns:\n",
        "        str: Full transcription text.\n",
        "    \"\"\"\n",
        "    print(f\"🎙️ Transcribing {input_audio} with chunk_size=30s...\")\n",
        "\n",
        "    # Transcribe the entire file at once (Faster-Whisper will chunk automatically)\n",
        "    segments, _ = model.transcribe(input_audio, chunk_size=30)\n",
        "\n",
        "    # Combine all segments into the full transcript\n",
        "    full_transcript = \" \".join(segment.text for segment in segments)\n",
        "\n",
        "    # Save the full transcript\n",
        "    with open(\"full_transcript.txt\", \"w\") as f:\n",
        "        f.write(full_transcript)\n",
        "\n",
        "    print(\"\\n📄 Transcription complete! Full transcript saved as full_transcript.txt\")\n",
        "    return full_transcript\n"
      ]
    },
    {
      "cell_type": "code",
      "execution_count": 8,
      "metadata": {
        "id": "Io_tuZfFDzCa"
      },
      "outputs": [],
      "source": [
        "# Remove temporary chunk files\n",
        "def cleanup_temp_files():\n",
        "    for file in os.listdir():\n",
        "        if file.startswith(\"chunk_\") or file.startswith(\"enhanced_\") :\n",
        "            os.remove(file)\n",
        "    print(\"Temporary files removed.\")"
      ]
    },
    {
      "cell_type": "code",
      "execution_count": 9,
      "metadata": {
        "colab": {
          "base_uri": "https://localhost:8080/"
        },
        "id": "2ZqFXviz7RLi",
        "outputId": "4df10c96-8a42-4dce-cf86-3af66ec0c71a"
      },
      "outputs": [
        {
          "output_type": "stream",
          "name": "stdout",
          "text": [
            "Temporary files removed.\n"
          ]
        }
      ],
      "source": [
        "cleanup_temp_files()"
      ]
    },
    {
      "cell_type": "code",
      "execution_count": null,
      "metadata": {
        "colab": {
          "base_uri": "https://localhost:8080/"
        },
        "id": "MhQKP2YEE6Q4",
        "outputId": "b43cea3c-a8bc-4f90-ae79-22e32641bbd3"
      },
      "outputs": [
        {
          "output_type": "stream",
          "name": "stdout",
          "text": [
            "[youtube] Extracting URL: https://youtu.be/ua8zZy5tTxE?si=-vKlgBB5i47fs_wB\n",
            "[youtube] ua8zZy5tTxE: Downloading webpage\n",
            "[youtube] ua8zZy5tTxE: Downloading tv client config\n",
            "[youtube] ua8zZy5tTxE: Downloading player 20830619\n",
            "[youtube] ua8zZy5tTxE: Downloading tv player API JSON\n",
            "[youtube] ua8zZy5tTxE: Downloading ios player API JSON\n",
            "[youtube] ua8zZy5tTxE: Downloading m3u8 information\n",
            "[info] ua8zZy5tTxE: Downloading 1 format(s): 251\n",
            "[download] input has already been downloaded\n",
            "[download] 100% of  530.35MiB\n",
            "[ExtractAudio] Destination: input.wav\n",
            "Deleting original file input (pass -k to keep)\n",
            "Downloaded and extracted audio: input.wav\n"
          ]
        }
      ],
      "source": [
        "# ✅ Run Full Pipeline\n",
        "video_url = \"https://youtu.be/ua8zZy5tTxE?si=-vKlgBB5i47fs_wB\"\n",
        "input_audio = \"input.wav\"\n",
        "\n",
        "download_video(video_url, input_audio)\n",
        "chunks = split_audio(input_audio)  # Split for denoising\n",
        "enhanced_chunks = denoise_audio_parallel(chunks)  # Denoise in parallel\n",
        "final_audio = concatenate_audios()  # Merge clean chunks\n",
        "transcript = transcribe_audio(final_audio)  # Transcribe full audio"
      ]
    },
    {
      "cell_type": "code",
      "execution_count": null,
      "metadata": {
        "id": "1Ht1E8357W0h"
      },
      "outputs": [],
      "source": [
        "pip install whisper-timestamped\n"
      ]
    },
    {
      "cell_type": "code",
      "execution_count": null,
      "metadata": {
        "id": "BI2TPtQk7bG4"
      },
      "outputs": [],
      "source": [
        "import whisper_timestamped as whisper\n",
        "\n",
        "# Load model\n",
        "model = whisper.load_model(\"medium\")\n",
        "\n",
        "# Transcribe with word-level timestamps\n",
        "result = model.transcribe(\"output.wav\", word_timestamps=True)\n",
        "\n",
        "# Group words into sentences\n",
        "sentences = []\n",
        "current_sentence = []\n",
        "sentence_start = None\n",
        "\n",
        "for segment in result['segments']:\n",
        "    for word in segment['words']:\n",
        "        if sentence_start is None:\n",
        "            sentence_start = word['start']  # Mark sentence start\n",
        "        current_sentence.append(word['text'])\n",
        "\n",
        "        # If punctuation found, finalize sentence\n",
        "        if word['text'] in [\".\", \"?\", \"!\"]:\n",
        "            sentence_text = \" \".join(current_sentence)\n",
        "            sentence_end = word['end']\n",
        "            sentences.append((sentence_text, sentence_start, sentence_end))\n",
        "            current_sentence = []\n",
        "            sentence_start = None\n",
        "\n",
        "# Save sentence-aligned transcript\n",
        "with open(\"sentence_aligned_transcript.txt\", \"w\") as f:\n",
        "    for sentence, start, end in sentences:\n",
        "        f.write(f\"[{start:.2f}s - {end:.2f}s] {sentence}\\n\")\n",
        "\n",
        "print(\"✅ Sentence-level alignment complete! Results saved in sentence_aligned_transcript.txt\")\n"
      ]
    }
  ],
  "metadata": {
    "accelerator": "GPU",
    "colab": {
      "gpuType": "T4",
      "provenance": [],
      "include_colab_link": true
    },
    "kernelspec": {
      "display_name": "Python 3",
      "name": "python3"
    },
    "language_info": {
      "name": "python"
    }
  },
  "nbformat": 4,
  "nbformat_minor": 0
}